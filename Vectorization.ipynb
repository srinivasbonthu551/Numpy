{
 "cells": [
  {
   "cell_type": "code",
   "execution_count": 1,
   "id": "45deb150",
   "metadata": {},
   "outputs": [],
   "source": [
    "import numpy as np\n",
    "w = np.array([1,3,4,4,5])\n",
    "b = 4\n",
    "x = np.array([2,3,45.6,6,7])"
   ]
  },
  {
   "cell_type": "code",
   "execution_count": 2,
   "id": "c8c0ac50",
   "metadata": {},
   "outputs": [
    {
     "name": "stdout",
     "output_type": "stream",
     "text": [
      "256.4\n"
     ]
    }
   ],
   "source": [
    "y = np.dot(w,x)+b\n",
    "print(y)"
   ]
  },
  {
   "cell_type": "code",
   "execution_count": 4,
   "id": "75ab5060",
   "metadata": {},
   "outputs": [
    {
     "name": "stdout",
     "output_type": "stream",
     "text": [
      "256.4\n"
     ]
    }
   ],
   "source": [
    "f = 0\n",
    "for j in range(0 , len(w)):\n",
    "    f = f + w[j] * x[j]\n",
    "    \n",
    "f = f + b\n",
    "print(f)"
   ]
  },
  {
   "cell_type": "code",
   "execution_count": null,
   "id": "ffcebfc6",
   "metadata": {},
   "outputs": [],
   "source": []
  }
 ],
 "metadata": {
  "kernelspec": {
   "display_name": "Python 3 (ipykernel)",
   "language": "python",
   "name": "python3"
  },
  "language_info": {
   "codemirror_mode": {
    "name": "ipython",
    "version": 3
   },
   "file_extension": ".py",
   "mimetype": "text/x-python",
   "name": "python",
   "nbconvert_exporter": "python",
   "pygments_lexer": "ipython3",
   "version": "3.10.9"
  }
 },
 "nbformat": 4,
 "nbformat_minor": 5
}
